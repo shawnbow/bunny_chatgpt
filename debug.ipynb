{
 "cells": [
  {
   "cell_type": "code",
   "execution_count": 2,
   "metadata": {},
   "outputs": [],
   "source": [
    "from common.utils import Downloader"
   ]
  },
  {
   "cell_type": "code",
   "execution_count": 6,
   "metadata": {},
   "outputs": [
    {
     "data": {
      "text/plain": [
       "(<_io.BytesIO at 0x7ff52e8b5a90>, 'image', '.jpg')"
      ]
     },
     "execution_count": 6,
     "metadata": {},
     "output_type": "execute_result"
    }
   ],
   "source": [
    "Downloader.fetch_file_data('https://image.pollinations.ai/prompt/bunny,%20little,%20sweet,%20soft,%20fluffy,%20standing,%20solo,%20realistic,%20soft,%20playful,%20cute,%20whimsical,%20Hibari%20Akihito')"
   ]
  },
  {
   "cell_type": "code",
   "execution_count": 1,
   "metadata": {},
   "outputs": [],
   "source": [
    "from bot.openai.engine import OpenAIBot"
   ]
  },
  {
   "cell_type": "code",
   "execution_count": 3,
   "metadata": {},
   "outputs": [
    {
     "name": "stderr",
     "output_type": "stream",
     "text": [
      "2023-03-04 19:11:55.606 | DEBUG    | bot.openai.engine:chat:24 - [OPENAI] chat model=gpt-3.5-turbo-0301, tokens=9, message=[{\"role\": \"user\", \"content\": \"你好\"}]\n",
      "2023-03-04 19:11:57.164 | DEBUG    | bot.openai.engine:chat:37 - [OPENAI] reply_chat role=assistant, answer=您好，有什么可以帮助您的吗？, usage={\"prompt_tokens\": 9, \"completion_tokens\": 19, \"total_tokens\": 28}\n"
     ]
    },
    {
     "data": {
      "text/plain": [
       "'您好，有什么可以帮助您的吗？'"
      ]
     },
     "execution_count": 3,
     "metadata": {},
     "output_type": "execute_result"
    }
   ],
   "source": [
    "OpenAIBot().chat('你好')"
   ]
  },
  {
   "cell_type": "code",
   "execution_count": null,
   "metadata": {},
   "outputs": [],
   "source": []
  }
 ],
 "metadata": {
  "kernelspec": {
   "display_name": "Python 3",
   "language": "python",
   "name": "python3"
  },
  "language_info": {
   "codemirror_mode": {
    "name": "ipython",
    "version": 3
   },
   "file_extension": ".py",
   "mimetype": "text/x-python",
   "name": "python",
   "nbconvert_exporter": "python",
   "pygments_lexer": "ipython3",
   "version": "3.8.5"
  }
 },
 "nbformat": 4,
 "nbformat_minor": 4
}
