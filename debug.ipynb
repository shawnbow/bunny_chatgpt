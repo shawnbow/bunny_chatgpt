{
 "cells": [
  {
   "cell_type": "code",
   "execution_count": 2,
   "metadata": {},
   "outputs": [],
   "source": [
    "from common.utils import Downloader"
   ]
  },
  {
   "cell_type": "code",
   "execution_count": 6,
   "metadata": {},
   "outputs": [
    {
     "data": {
      "text/plain": [
       "(<_io.BytesIO at 0x7ff52e8b5a90>, 'image', '.jpg')"
      ]
     },
     "execution_count": 6,
     "metadata": {},
     "output_type": "execute_result"
    }
   ],
   "source": [
    "Downloader.fetch_file_data('https://image.pollinations.ai/prompt/bunny,%20little,%20sweet,%20soft,%20fluffy,%20standing,%20solo,%20realistic,%20soft,%20playful,%20cute,%20whimsical,%20Hibari%20Akihito')"
   ]
  },
  {
   "cell_type": "code",
   "execution_count": 1,
   "metadata": {},
   "outputs": [],
   "source": [
    "from bot.openai.engine import OpenAIBot"
   ]
  },
  {
   "cell_type": "code",
   "execution_count": 2,
   "metadata": {},
   "outputs": [
    {
     "name": "stderr",
     "output_type": "stream",
     "text": [
      "2023-03-05 20:31:36.567 | DEBUG    | bot.openai.engine:chat:24 - [OPENAI] chat model=gpt-3.5-turbo-0301, tokens=9, message=[{\"role\": \"user\", \"content\": \"你好\"}]\n",
      "2023-03-05 20:31:37.951 | DEBUG    | bot.openai.engine:chat:37 - [OPENAI] reply_chat role=assistant, answer=Hello!, usage={\"prompt_tokens\": 9, \"completion_tokens\": 4, \"total_tokens\": 13}\n"
     ]
    },
    {
     "data": {
      "text/plain": [
       "'Hello!'"
      ]
     },
     "execution_count": 2,
     "metadata": {},
     "output_type": "execute_result"
    }
   ],
   "source": [
    "OpenAIBot().chat('你好')"
   ]
  },
  {
   "cell_type": "code",
   "execution_count": null,
   "metadata": {},
   "outputs": [],
   "source": []
  }
 ],
 "metadata": {
  "kernelspec": {
   "display_name": "Python 3",
   "language": "python",
   "name": "python3"
  },
  "language_info": {
   "codemirror_mode": {
    "name": "ipython",
    "version": 3
   },
   "file_extension": ".py",
   "mimetype": "text/x-python",
   "name": "python",
   "nbconvert_exporter": "python",
   "pygments_lexer": "ipython3",
   "version": "3.8.5"
  }
 },
 "nbformat": 4,
 "nbformat_minor": 4
}
